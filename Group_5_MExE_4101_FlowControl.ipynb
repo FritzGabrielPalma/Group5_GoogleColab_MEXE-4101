{
  "nbformat": 4,
  "nbformat_minor": 0,
  "metadata": {
    "colab": {
      "provenance": []
    },
    "kernelspec": {
      "name": "python3",
      "display_name": "Python 3"
    },
    "language_info": {
      "name": "python"
    }
  },
  "cells": [
    {
      "cell_type": "markdown",
      "source": [
        "# **Conditional Statement**"
      ],
      "metadata": {
        "id": "pxU92vsirp96"
      }
    },
    {
      "cell_type": "markdown",
      "source": [
        "Conditional Statements:\n",
        "\n",
        "\n",
        "*   If Statement\n",
        "*   If else\n",
        "*   Nested If\n",
        "\n"
      ],
      "metadata": {
        "id": "5p-qi_SKru3x"
      }
    },
    {
      "cell_type": "code",
      "execution_count": 1,
      "metadata": {
        "colab": {
          "base_uri": "https://localhost:8080/"
        },
        "id": "g0l2Cw36rk4i",
        "outputId": "badef32f-9382-4854-dbff-8f9707050069"
      },
      "outputs": [
        {
          "output_type": "stream",
          "name": "stdout",
          "text": [
            "emp belongs to sales dept\n"
          ]
        }
      ],
      "source": [
        "# If Statement\n",
        "# if condition:\n",
        "  #block of code\n",
        "\n",
        "emp = 101\n",
        "if emp > 100:\n",
        "  print(\"emp belongs to sales dept\")"
      ]
    },
    {
      "cell_type": "code",
      "source": [
        "employee =30000\n",
        "if employee < 40000:\n",
        "  print(\"employee belongs to grade B\")"
      ],
      "metadata": {
        "colab": {
          "base_uri": "https://localhost:8080/"
        },
        "id": "bcXSYR-hr7zi",
        "outputId": "b521c68c-b3e1-4712-ff7c-5aa8a067fe1a"
      },
      "execution_count": 2,
      "outputs": [
        {
          "output_type": "stream",
          "name": "stdout",
          "text": [
            "employee belongs to grade B\n"
          ]
        }
      ]
    },
    {
      "cell_type": "code",
      "source": [
        "#Emp belongs to id 101 takes leave on Monday\n",
        "Emp = 101\n",
        "if Emp == 101:\n",
        "  print(\"employee belongs to id 101 takes leave on Monday\")"
      ],
      "metadata": {
        "colab": {
          "base_uri": "https://localhost:8080/"
        },
        "id": "BbLI-oemr-NE",
        "outputId": "d095d1d3-f9c6-485e-de1f-c00c86acf807"
      },
      "execution_count": 3,
      "outputs": [
        {
          "output_type": "stream",
          "name": "stdout",
          "text": [
            "employee belongs to id 101 takes leave on Monday\n"
          ]
        }
      ]
    },
    {
      "cell_type": "code",
      "source": [
        "Emp = 101\n",
        "if Emp <101:\n",
        "  print(\"employee belongs to id 101 takes leave on Monday\")"
      ],
      "metadata": {
        "id": "s3GlTCO0sAYD"
      },
      "execution_count": 4,
      "outputs": []
    },
    {
      "cell_type": "code",
      "source": [
        "# if else statement\n",
        "# if <expression>:\n",
        "  #<condition>\n",
        "#else:\n",
        "  #<statement>\n",
        "\n",
        "branch = \"sales\"\n",
        "if branch == \"HR\":\n",
        "  print(\"Employee is from different dept\")\n",
        "else:\n",
        "  print(\"Employee belongs to same dept\")"
      ],
      "metadata": {
        "colab": {
          "base_uri": "https://localhost:8080/"
        },
        "id": "XSTBsm_2sCUw",
        "outputId": "c1e43da4-f87c-40de-9485-e9e71710b4b5"
      },
      "execution_count": 5,
      "outputs": [
        {
          "output_type": "stream",
          "name": "stdout",
          "text": [
            "Employee belongs to same dept\n"
          ]
        }
      ]
    },
    {
      "cell_type": "code",
      "source": [
        "# age = 30 then consider as senior or consider as a fresher\n",
        "age = 30\n",
        "\n",
        "if age == 30:\n",
        "  print(\"Senior\")\n",
        "else:\n",
        "  print(\"Fresher\")"
      ],
      "metadata": {
        "colab": {
          "base_uri": "https://localhost:8080/"
        },
        "id": "cmaEbtb9sEkH",
        "outputId": "80df8a57-90e2-404e-a9ad-64f73ec293c8"
      },
      "execution_count": 6,
      "outputs": [
        {
          "output_type": "stream",
          "name": "stdout",
          "text": [
            "Senior\n"
          ]
        }
      ]
    },
    {
      "cell_type": "code",
      "source": [
        "# if-elif\n",
        "color = \"White\"\n",
        "if color == \"Red\":\n",
        "  print(\"color is Red\")\n",
        "elif color == \"Blue\":\n",
        "  print(\"color is Blue\")\n",
        "elif color == \"Black\":\n",
        "  print(\"color is Black\")\n",
        "else:\n",
        "  print(\"color is not present\")"
      ],
      "metadata": {
        "colab": {
          "base_uri": "https://localhost:8080/"
        },
        "id": "f_mvgvxWsILO",
        "outputId": "cf740d09-3aa9-4c6f-83ea-aa60ba687955"
      },
      "execution_count": 7,
      "outputs": [
        {
          "output_type": "stream",
          "name": "stdout",
          "text": [
            "color is not present\n"
          ]
        }
      ]
    },
    {
      "cell_type": "code",
      "source": [
        "# for loop\n",
        "\n",
        "names = [\"John\",\"Maria\",\"Daniel\"]\n",
        "for name in names:\n",
        "  print(name)\n",
        "  if name == \"Maria\":\n",
        "    break"
      ],
      "metadata": {
        "colab": {
          "base_uri": "https://localhost:8080/"
        },
        "id": "3BWm04iCsKS4",
        "outputId": "d7536a08-151a-4d42-a7d0-8388f4871b3e"
      },
      "execution_count": 8,
      "outputs": [
        {
          "output_type": "stream",
          "name": "stdout",
          "text": [
            "John\n",
            "Maria\n"
          ]
        }
      ]
    },
    {
      "cell_type": "code",
      "source": [
        "names = [\"John\",\"Maria\",\"Daniel\"]\n",
        "for name in names:\n",
        "  if name == \"Maria\":\n",
        "    continue\n",
        "  print(names)"
      ],
      "metadata": {
        "colab": {
          "base_uri": "https://localhost:8080/"
        },
        "id": "sEBPwvYIsMUD",
        "outputId": "eb247001-0606-4034-a996-dee299eb7db0"
      },
      "execution_count": 9,
      "outputs": [
        {
          "output_type": "stream",
          "name": "stdout",
          "text": [
            "['John', 'Maria', 'Daniel']\n",
            "['John', 'Maria', 'Daniel']\n"
          ]
        }
      ]
    },
    {
      "cell_type": "code",
      "source": [],
      "metadata": {
        "id": "c4-tqtwTsO0w"
      },
      "execution_count": null,
      "outputs": []
    }
  ]
}