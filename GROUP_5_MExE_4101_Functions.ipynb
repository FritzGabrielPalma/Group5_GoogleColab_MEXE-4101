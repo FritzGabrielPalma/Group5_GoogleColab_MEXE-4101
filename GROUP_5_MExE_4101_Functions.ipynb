{
  "nbformat": 4,
  "nbformat_minor": 0,
  "metadata": {
    "colab": {
      "provenance": []
    },
    "kernelspec": {
      "name": "python3",
      "display_name": "Python 3"
    },
    "language_info": {
      "name": "python"
    }
  },
  "cells": [
    {
      "cell_type": "markdown",
      "source": [
        "# **Functions**"
      ],
      "metadata": {
        "id": "dQ4l2RJXokWV"
      }
    },
    {
      "cell_type": "code",
      "execution_count": 2,
      "metadata": {
        "id": "1EHy-194ocnU"
      },
      "outputs": [],
      "source": [
        "#Function - Its a block of code which executes when we call it.\n",
        "def example():\n",
        "  print(\"Hi Everyone\")"
      ]
    },
    {
      "cell_type": "code",
      "source": [
        "example()"
      ],
      "metadata": {
        "colab": {
          "base_uri": "https://localhost:8080/"
        },
        "id": "LiQJ14o3op0k",
        "outputId": "4d437edd-003a-4010-f8eb-7082237d1bc5"
      },
      "execution_count": 3,
      "outputs": [
        {
          "output_type": "stream",
          "name": "stdout",
          "text": [
            "Hi Everyone\n"
          ]
        }
      ]
    },
    {
      "cell_type": "code",
      "source": [
        "def dept(fname):\n",
        "  print(fname + \" helps to generate revenue\")\n",
        "\n",
        "dept(\"HR\")"
      ],
      "metadata": {
        "colab": {
          "base_uri": "https://localhost:8080/"
        },
        "id": "C4gZnYwGoxHq",
        "outputId": "d07ac802-1f74-42a2-a76e-896753f038bc"
      },
      "execution_count": 4,
      "outputs": [
        {
          "output_type": "stream",
          "name": "stdout",
          "text": [
            "HR helps to generate revenue\n"
          ]
        }
      ]
    },
    {
      "cell_type": "code",
      "source": [
        "def example_1(string):\n",
        "  return len(string)\n",
        "print(\"length of string is\",example_1(\"Python Programming\"))"
      ],
      "metadata": {
        "colab": {
          "base_uri": "https://localhost:8080/"
        },
        "id": "khMxz886oy-K",
        "outputId": "e6f9ab8f-ca63-4a85-99eb-da69f6fe79c1"
      },
      "execution_count": 5,
      "outputs": [
        {
          "output_type": "stream",
          "name": "stdout",
          "text": [
            "length of string is 18\n"
          ]
        }
      ]
    },
    {
      "cell_type": "code",
      "source": [
        "text = \"This is function topic in python\"\n",
        "def anytext(any):\n",
        "  '''\n",
        "  input:\n",
        "    anytext-str\n",
        "  output:\n",
        "    anytext-str\n",
        "  '''\n",
        "  output = text +any.upper()\n",
        "  return output"
      ],
      "metadata": {
        "id": "2KpMUpYpo1vQ"
      },
      "execution_count": 6,
      "outputs": []
    },
    {
      "cell_type": "code",
      "source": [
        "anytext('Hello Everyone')"
      ],
      "metadata": {
        "colab": {
          "base_uri": "https://localhost:8080/",
          "height": 35
        },
        "id": "ii0wkIHuo38l",
        "outputId": "2c961bdc-e959-41ee-e7d8-9e8fc5b079de"
      },
      "execution_count": 7,
      "outputs": [
        {
          "output_type": "execute_result",
          "data": {
            "text/plain": [
              "'This is function topic in pythonHELLO EVERYONE'"
            ],
            "application/vnd.google.colaboratory.intrinsic+json": {
              "type": "string"
            }
          },
          "metadata": {},
          "execution_count": 7
        }
      ]
    },
    {
      "cell_type": "code",
      "source": [
        "def multiply(*numbers):\n",
        "  total = 1\n",
        "  for number in numbers:\n",
        "    total *= number\n",
        "  return total"
      ],
      "metadata": {
        "id": "g8SIHgL2o5vm"
      },
      "execution_count": 8,
      "outputs": []
    },
    {
      "cell_type": "code",
      "source": [
        "multiply(2,3,4,1,3)"
      ],
      "metadata": {
        "colab": {
          "base_uri": "https://localhost:8080/"
        },
        "id": "cARGF0Hgo7aH",
        "outputId": "dd58454d-0f61-4ffe-9151-6197cdd644c1"
      },
      "execution_count": 9,
      "outputs": [
        {
          "output_type": "execute_result",
          "data": {
            "text/plain": [
              "72"
            ]
          },
          "metadata": {},
          "execution_count": 9
        }
      ]
    },
    {
      "cell_type": "code",
      "source": [
        "def emp_1(** emp):\n",
        "  print(emp)"
      ],
      "metadata": {
        "id": "gka7faiio9N2"
      },
      "execution_count": 10,
      "outputs": []
    },
    {
      "cell_type": "code",
      "source": [
        "emp_1(id=1,name=\"Steve\",age=26)"
      ],
      "metadata": {
        "colab": {
          "base_uri": "https://localhost:8080/"
        },
        "id": "v-csFaxio_Gl",
        "outputId": "2f22b5d1-47b3-4ed4-ce7e-43890671cb9a"
      },
      "execution_count": 11,
      "outputs": [
        {
          "output_type": "stream",
          "name": "stdout",
          "text": [
            "{'id': 1, 'name': 'Steve', 'age': 26}\n"
          ]
        }
      ]
    },
    {
      "cell_type": "code",
      "source": [
        "#task - define a function for employees with string \"emp works with\", id, name and dept\n",
        "def Emp(** E):\n",
        "  print(\"Employee works with \",E)"
      ],
      "metadata": {
        "id": "Qnk03r15pB4H"
      },
      "execution_count": 12,
      "outputs": []
    },
    {
      "cell_type": "code",
      "source": [
        "Emp(id=30,name=\"Mark\",dept=\"Engineering\")"
      ],
      "metadata": {
        "colab": {
          "base_uri": "https://localhost:8080/"
        },
        "id": "OM5h7AOVpDtO",
        "outputId": "5c5e9acb-3584-40fb-8a08-22b01b8aeb8b"
      },
      "execution_count": 13,
      "outputs": [
        {
          "output_type": "stream",
          "name": "stdout",
          "text": [
            "Employee works with  {'id': 30, 'name': 'Mark', 'dept': 'Engineering'}\n"
          ]
        }
      ]
    },
    {
      "cell_type": "code",
      "source": [
        "def employee_details(emp_id, name, dept):\n",
        "    return print(name,\"(\",emp_id,\")\",\"works in\",dept,\"department.\")\n",
        "employee_details(30,\"Mark\",\"Sales\")"
      ],
      "metadata": {
        "colab": {
          "base_uri": "https://localhost:8080/"
        },
        "id": "bciCDGkSpFU5",
        "outputId": "6c37697b-b583-4994-976e-973151d795d9"
      },
      "execution_count": 14,
      "outputs": [
        {
          "output_type": "stream",
          "name": "stdout",
          "text": [
            "Mark ( 30 ) works in Sales department.\n"
          ]
        }
      ]
    },
    {
      "cell_type": "code",
      "source": [],
      "metadata": {
        "id": "dIPEKILcpIYi"
      },
      "execution_count": null,
      "outputs": []
    }
  ]
}